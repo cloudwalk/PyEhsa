{
  "cells": [
    {
      "cell_type": "markdown",
      "metadata": {},
      "source": [
        "# PyEhsa Demo - São Paulo\n"
      ]
    },
    {
      "cell_type": "code",
      "execution_count": null,
      "metadata": {},
      "outputs": [],
      "source": [
        "import sys\n",
        "import os\n",
        "sys.path.append(os.path.join(os.path.dirname(''), '..', 'src'))\n",
        "\n",
        "import pandas as pd\n",
        "import geopandas as gpd\n",
        "import numpy as np\n",
        "from shapely.geometry import Point\n",
        "from datetime import datetime, timedelta\n",
        "\n",
        "from pyehsa.emerging_hotspot_analysis import EmergingHotspotAnalysis\n",
        "\n",
        "np.random.seed(42)\n"
      ]
    },
    {
      "cell_type": "code",
      "execution_count": null,
      "metadata": {},
      "outputs": [],
      "source": [
        "# Criar dados sintéticos - Grid 5x5 no centro de SP\n",
        "center_lat, center_lon = -23.5489, -46.6388\n",
        "step = 0.01\n",
        "\n",
        "data = []\n",
        "for i in range(5):\n",
        "    for j in range(5):\n",
        "        lat = center_lat + (i - 2) * step\n",
        "        lon = center_lon + (j - 2) * step\n",
        "        location_id = f'SP_{i}_{j}'\n",
        "        \n",
        "        for month in range(6):\n",
        "            time_period = datetime(2024, 1, 1) + timedelta(days=30*month)\n",
        "            \n",
        "            value = np.random.poisson(10)\n",
        "            \n",
        "            # Hotspot emergente no canto superior direito\n",
        "            if i >= 3 and j >= 3 and month >= 2:\n",
        "                value += (month - 1) * 8\n",
        "            \n",
        "            value += np.random.normal(0, 2)\n",
        "            value = max(0, value)\n",
        "            \n",
        "            data.append({\n",
        "                'location_id': location_id,\n",
        "                'time_period': time_period,\n",
        "                'value': value,\n",
        "                'geometry': Point(lon, lat)\n",
        "            })\n",
        "\n",
        "gdf = gpd.GeoDataFrame(data, geometry='geometry', crs='EPSG:4326')\n",
        "print(f\"Dataset: {len(gdf)} observações, {gdf['location_id'].nunique()} locais\")\n"
      ]
    },
    {
      "cell_type": "code",
      "execution_count": null,
      "metadata": {},
      "outputs": [],
      "source": [
        "# Executar análise EHSA\n",
        "results = EmergingHotspotAnalysis.emerging_hotspot_analysis(\n",
        "    gdf,\n",
        "    region_id_field='location_id',\n",
        "    time_period_field='time_period', \n",
        "    value='value',\n",
        "    k=1,\n",
        "    nsim=99\n",
        ")\n"
      ]
    },
    {
      "cell_type": "code",
      "execution_count": null,
      "metadata": {},
      "outputs": [],
      "source": [
        "# Mostrar resultados\n",
        "print(\"Padrões identificados:\")\n",
        "print(results['classification'].value_counts())\n",
        "print(\"\\nPrimeiros resultados:\")\n",
        "results[['region_id', 'classification', 'tau', 'p_value']].head()\n"
      ]
    },
    {
      "cell_type": "code",
      "execution_count": null,
      "metadata": {},
      "outputs": [],
      "source": [
        "# Criar mapa\n",
        "import folium\n",
        "\n",
        "locations = gdf[['location_id', 'geometry']].drop_duplicates()\n",
        "viz_data = results.merge(locations, left_on='region_id', right_on='location_id')\n",
        "\n",
        "m = folium.Map(location=[center_lat, center_lon], zoom_start=13)\n",
        "\n",
        "color_map = {\n",
        "    'no pattern detected': 'gray',\n",
        "    'new hotspot': 'red',\n",
        "    'consecutive hotspot': 'darkred',\n",
        "    'sporadic hotspot': 'orange'\n",
        "}\n",
        "\n",
        "for _, row in viz_data.iterrows():\n",
        "    color = color_map.get(row['classification'], 'gray')\n",
        "    \n",
        "    folium.CircleMarker(\n",
        "        location=[row['geometry'].y, row['geometry'].x],\n",
        "        radius=8,\n",
        "        popup=f\"{row['region_id']}: {row['classification']}\",\n",
        "        color='black',\n",
        "        fillColor=color,\n",
        "        fillOpacity=0.7\n",
        "    ).add_to(m)\n",
        "\n",
        "m\n"
      ]
    }
  ],
  "metadata": {
    "language_info": {
      "name": "python"
    }
  },
  "nbformat": 4,
  "nbformat_minor": 2
}
